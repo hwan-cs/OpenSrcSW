{
 "cells": [
  {
   "cell_type": "code",
   "execution_count": 15,
   "id": "ab11aa9b",
   "metadata": {},
   "outputs": [
    {
     "data": {
      "image/png": "[encoded data removed]",
      "text/plain": [
       "<Figure size 432x288 with 1 Axes>"
      ]
     },
     "metadata": {
      "needs_background": "light"
     },
     "output_type": "display_data"
    }
   ],
   "source": [
    "import matplotlib.pyplot as plt\n",
    "import csv\n",
    "f=open('/Users/19juhpark/Downloads/bday_seoultemp.csv')\n",
    "data=csv.reader(f)\n",
    "next(data)\n",
    "labels=[\"Aug\",\"Jan\"]\n",
    "aug=[]\n",
    "jan=[]\n",
    "for row in data:\n",
    "    month=row[0].split('/')[1]\n",
    "    if row[-1] != '':\n",
    "        if month == '08':\n",
    "            aug.append(float(row[-1]))\n",
    "        elif month == '01':\n",
    "            jan.append(float(row[-1]))\n",
    "\n",
    "plt.hist(aug,label=\"Aug\", bins=100, color='r')\n",
    "plt.hist(jan,label=\"Jan\", bins=100, color='blue')\n",
    "plt.legend(loc = 'upper right')\n",
    "plt.show()"
   ]
  },
  {
   "cell_type": "code",
   "execution_count": null,
   "id": "9d38c954",
   "metadata": {},
   "outputs": [],
   "source": []
  }
 ],
 "metadata": {
  "kernelspec": {
   "display_name": "Python 3",
   "language": "python",
   "name": "python3"
  },
  "language_info": {
   "codemirror_mode": {
    "name": "ipython",
    "version": 3
   },
   "file_extension": ".py",
   "mimetype": "text/x-python",
   "name": "python",
   "nbconvert_exporter": "python",
   "pygments_lexer": "ipython3",
   "version": "3.8.10"
  }
 },
 "nbformat": 4,
 "nbformat_minor": 5
}
