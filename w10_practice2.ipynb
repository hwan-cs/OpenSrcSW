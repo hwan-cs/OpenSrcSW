{
 "cells": [
  {
   "cell_type": "code",
   "execution_count": 6,
   "id": "46ed9070",
   "metadata": {},
   "outputs": [
    {
     "name": "stdout",
     "output_type": "stream",
     "text": [
      "숫자열을 입력하세요: 10 456 87 78\n",
      "최대값:  456\n"
     ]
    }
   ],
   "source": [
    "num=input(\"숫자열을 입력하세요: \")\n",
    "numList=num.split(\" \")\n",
    "for i in range(0, len(numList)):\n",
    "    numList[i] = int(numList[i])\n",
    "numList.sort()\n",
    "print(\"최대값: \",numList[-1])"
   ]
  },
  {
   "cell_type": "code",
   "execution_count": null,
   "id": "52055d56",
   "metadata": {},
   "outputs": [],
   "source": []
  }
 ],
 "metadata": {
  "kernelspec": {
   "display_name": "Python 3",
   "language": "python",
   "name": "python3"
  },
  "language_info": {
   "codemirror_mode": {
    "name": "ipython",
    "version": 3
   },
   "file_extension": ".py",
   "mimetype": "text/x-python",
   "name": "python",
   "nbconvert_exporter": "python",
   "pygments_lexer": "ipython3",
   "version": "3.9.4"
  }
 },
 "nbformat": 4,
 "nbformat_minor": 5
}
