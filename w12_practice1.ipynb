{
 "cells": [
  {
   "cell_type": "code",
   "execution_count": 29,
   "id": "d691bf78",
   "metadata": {},
   "outputs": [
    {
     "name": "stdout",
     "output_type": "stream",
     "text": [
      "일교차가 가장 큰 날:\n",
      " 2020/05/06\n",
      "최저기온이 가장 낮은 날:\n",
      " 2020/12/30\n",
      "최고기온이 가장 높은 날:\n",
      " 2020/06/22\n"
     ]
    }
   ],
   "source": [
    "import csv\n",
    "f=open('/Users/19juhpark/Downloads/seoul.csv')\n",
    "data=csv.reader(f)\n",
    "header=next(data)\n",
    "foo={\"일교차가 가장 큰 날:\\n\":\"\",\"최저기온이 가장 낮은 날:\\n\":\"\", \"최고기온이 가장 높은 날:\\n\":\"\"}\n",
    "max_diff=-999\n",
    "max_temp=-999\n",
    "min_temp=999\n",
    "for row in data:\n",
    "    if row[-1]=='':\n",
    "        row[-1]=-999\n",
    "    row[-1]=float(row[-1])\n",
    "    row[-2]=float(row[-2])\n",
    "    if max_diff < row[-1]-row[-2]:\n",
    "        max_diff=row[-1]-row[-2]\n",
    "        foo[\"일교차가 가장 큰 날:\\n\"]=row[0]\n",
    "    if max_temp < row[-1]:\n",
    "        max_temp=row[-1]\n",
    "        foo[\"최고기온이 가장 높은 날:\\n\"]=row[0]\n",
    "    if min_temp > row[-1]:\n",
    "        min_temp=row[-1]\n",
    "        foo[\"최저기온이 가장 낮은 날:\\n\"]=row[0]\n",
    "f.close()\n",
    "\n",
    "for i in range(len(foo)):\n",
    "    print(list(foo.keys())[i],foo[list(foo.keys())[i]])"
   ]
  },
  {
   "cell_type": "code",
   "execution_count": null,
   "id": "db50861a",
   "metadata": {},
   "outputs": [],
   "source": []
  }
 ],
 "metadata": {
  "kernelspec": {
   "display_name": "Python 3",
   "language": "python",
   "name": "python3"
  },
  "language_info": {
   "codemirror_mode": {
    "name": "ipython",
    "version": 3
   },
   "file_extension": ".py",
   "mimetype": "text/x-python",
   "name": "python",
   "nbconvert_exporter": "python",
   "pygments_lexer": "ipython3",
   "version": "3.8.8"
  }
 },
 "nbformat": 4,
 "nbformat_minor": 5
}
