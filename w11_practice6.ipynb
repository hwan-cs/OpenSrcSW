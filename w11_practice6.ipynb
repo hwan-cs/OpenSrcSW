{
 "cells": [
  {
   "cell_type": "code",
   "execution_count": 4,
   "id": "8f9c953c",
   "metadata": {},
   "outputs": [
    {
     "name": "stdout",
     "output_type": "stream",
     "text": [
      "File to be copied: /Users/19juhpark/Desktop/OpenSW2021/SimpleIR/input.txt\n",
      "Target file: /Users/19juhpark/Desktop/OpenSW2021/SimpleIR/output.txt\n",
      "\n",
      "File copy done!\n",
      "\n"
     ]
    }
   ],
   "source": [
    "from shutil import copyfile\n",
    "from sys import exit\n",
    "\n",
    "source = input(\"File to be copied: \")\n",
    "target = input(\"Target file: \")\n",
    "\n",
    "try:\n",
    "    copyfile(source, target)\n",
    "except IOError as e:\n",
    "    print(\"Unable to copy file. %s\" % e)\n",
    "    exit(1)\n",
    "except:\n",
    "    print(\"Unexpected error:\", sys.exc_info())\n",
    "    exit(1)\n",
    "\n",
    "print(\"\\nFile copy done!\\n\")"
   ]
  },
  {
   "cell_type": "code",
   "execution_count": null,
   "id": "f4363533",
   "metadata": {},
   "outputs": [],
   "source": []
  }
 ],
 "metadata": {
  "kernelspec": {
   "display_name": "Python 3",
   "language": "python",
   "name": "python3"
  },
  "language_info": {
   "codemirror_mode": {
    "name": "ipython",
    "version": 3
   },
   "file_extension": ".py",
   "mimetype": "text/x-python",
   "name": "python",
   "nbconvert_exporter": "python",
   "pygments_lexer": "ipython3",
   "version": "3.9.4"
  }
 },
 "nbformat": 4,
 "nbformat_minor": 5
}
