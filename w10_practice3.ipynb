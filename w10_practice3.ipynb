{
 "cells": [
  {
   "cell_type": "code",
   "execution_count": 12,
   "id": "328cfabe",
   "metadata": {},
   "outputs": [
    {
     "name": "stdout",
     "output_type": "stream",
     "text": [
      "암호화할 문자열을 입력하세요: this is a string\n",
      "tusjoh b jt uijt \n",
      "복호화할 문자열을 입력하세요: tusjoh b jt uijt\n",
      "this is a string "
     ]
    }
   ],
   "source": [
    "encStr=input(\"암호화할 문자열을 입력하세요: \")\n",
    "encList =encStr.split(\" \")\n",
    "for i in range(0, len(encList)):\n",
    "    encList[i] = ''.join(chr(ord(ch)+1) for ch in encList[i])\n",
    "encList.reverse()\n",
    "for i in encList:\n",
    "    print(i,end =\" \"),\n",
    "decStr=input(\"\\n복호화할 문자열을 입력하세요: \")\n",
    "decList =decStr.split(\" \")\n",
    "for i in range(0, len(decList)):\n",
    "    decList[i] = ''.join(chr(ord(ch)-1) for ch in decList[i])\n",
    "decList.reverse()\n",
    "for i in decList:\n",
    "    print(i,end =\" \"),"
   ]
  }
 ],
 "metadata": {
  "kernelspec": {
   "display_name": "Python 3",
   "language": "python",
   "name": "python3"
  },
  "language_info": {
   "codemirror_mode": {
    "name": "ipython",
    "version": 3
   },
   "file_extension": ".py",
   "mimetype": "text/x-python",
   "name": "python",
   "nbconvert_exporter": "python",
   "pygments_lexer": "ipython3",
   "version": "3.9.4"
  }
 },
 "nbformat": 4,
 "nbformat_minor": 5
}
