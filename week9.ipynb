{
 "cells": [
  {
   "cell_type": "code",
   "execution_count": 1,
   "id": "775134ca",
   "metadata": {},
   "outputs": [
    {
     "name": "stdout",
     "output_type": "stream",
     "text": [
      "방정식: y=3x^2+5x+3\n",
      "x의 값을 입력하세요:3\n",
      "y의 값은: 45\n"
     ]
    }
   ],
   "source": [
    "print(\"방정식: y=3x^2+5x+3\")\n",
    "x=int(input(\"x의 값을 입력하세요:\"))\n",
    "print(\"y의 값은:\",3*pow(x,2)+5*x+3)"
   ]
  },
  {
   "cell_type": "code",
   "execution_count": 2,
   "id": "acdb1c53",
   "metadata": {},
   "outputs": [
    {
     "name": "stdout",
     "output_type": "stream",
     "text": [
      "원의 반지름 값을 입력하세요: 4\n",
      "원의 둘레의 길이는:  25.12\n",
      "원의 넓이는:  50.24\n"
     ]
    }
   ],
   "source": [
    "pi=3.14\n",
    "r=int(input(\"원의 반지름 값을 입력하세요: \"))\n",
    "print(\"원의 둘레의 길이는: \",2*pi*r)\n",
    "print(\"원의 넓이는: \",pi*pow(r,2))"
   ]
  },
  {
   "cell_type": "code",
   "execution_count": null,
   "id": "f7818a36",
   "metadata": {},
   "outputs": [],
   "source": []
  }
 ],
 "metadata": {
  "kernelspec": {
   "display_name": "Python 3",
   "language": "python",
   "name": "python3"
  },
  "language_info": {
   "codemirror_mode": {
    "name": "ipython",
    "version": 3
   },
   "file_extension": ".py",
   "mimetype": "text/x-python",
   "name": "python",
   "nbconvert_exporter": "python",
   "pygments_lexer": "ipython3",
   "version": "3.9.4"
  }
 },
 "nbformat": 4,
 "nbformat_minor": 5
}
