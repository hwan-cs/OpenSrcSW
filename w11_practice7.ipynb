{
 "cells": [
  {
   "cell_type": "code",
   "execution_count": 4,
   "id": "23fe9557",
   "metadata": {},
   "outputs": [
    {
     "name": "stdout",
     "output_type": "stream",
     "text": [
      "Enter file name: /Users/19juhpark/Desktop/OpenSW2021/SimpleIR/input.txt\n",
      "lines:  5 \n",
      "words:  20\n"
     ]
    }
   ],
   "source": [
    "filename = input(\"Enter file name: \")\n",
    "chars = 0\n",
    "words = 0\n",
    "lines = 0\n",
    "try:\n",
    "    with open(filename) as fh:\n",
    "                for line in fh:\n",
    "                    lines += 1\n",
    "                    words += len(line.split())\n",
    "                    chars += len(line)\n",
    "except Exception as err:\n",
    "    print(err)\n",
    "print('lines: ',lines,'\\nwords: ', words)"
   ]
  }
 ],
 "metadata": {
  "kernelspec": {
   "display_name": "Python 3",
   "language": "python",
   "name": "python3"
  },
  "language_info": {
   "codemirror_mode": {
    "name": "ipython",
    "version": 3
   },
   "file_extension": ".py",
   "mimetype": "text/x-python",
   "name": "python",
   "nbconvert_exporter": "python",
   "pygments_lexer": "ipython3",
   "version": "3.9.4"
  }
 },
 "nbformat": 4,
 "nbformat_minor": 5
}
