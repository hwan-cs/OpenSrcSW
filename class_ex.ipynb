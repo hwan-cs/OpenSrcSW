{
 "cells": [
  {
   "cell_type": "code",
   "execution_count": 1,
   "id": "115b37fb",
   "metadata": {},
   "outputs": [],
   "source": [
    "class Calc:\n",
    "    def sum(self, a,b):\n",
    "        result=a+b\n",
    "        print(\"{0} + {1} = {2}입니다\".format(a,b,result))\n",
    "    def sub(self,a,b):\n",
    "        result=a-b\n",
    "        print(\"{0} - {1} = {2}입니다\".format(a,b,result))\n",
    "    def multi(self,a,b):\n",
    "        result=a*b\n",
    "        print(\"{0} * {1} = {2}입니다\".format(a,b,result))\n",
    "    def divi(self,a,b):\n",
    "        result=a/b\n",
    "        print(\"{0} / {1} = {2}입니다\".format(a,b,int(result)))"
   ]
  },
  {
   "cell_type": "code",
   "execution_count": null,
   "id": "e3614f16",
   "metadata": {},
   "outputs": [],
   "source": []
  }
 ],
 "metadata": {
  "kernelspec": {
   "display_name": "Python 3",
   "language": "python",
   "name": "python3"
  },
  "language_info": {
   "codemirror_mode": {
    "name": "ipython",
    "version": 3
   },
   "file_extension": ".py",
   "mimetype": "text/x-python",
   "name": "python",
   "nbconvert_exporter": "python",
   "pygments_lexer": "ipython3",
   "version": "3.9.4"
  }
 },
 "nbformat": 4,
 "nbformat_minor": 5
}
