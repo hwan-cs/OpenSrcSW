{
 "cells": [
  {
   "cell_type": "code",
   "execution_count": 7,
   "id": "ed1a1e8e",
   "metadata": {},
   "outputs": [
    {
     "ename": "TypeError",
     "evalue": "Point() takes no arguments",
     "output_type": "error",
     "traceback": [
      "\u001b[0;31m---------------------------------------------------------------------------\u001b[0m",
      "\u001b[0;31mTypeError\u001b[0m                                 Traceback (most recent call last)",
      "\u001b[0;32m<ipython-input-7-f738be943ed4>\u001b[0m in \u001b[0;36m<module>\u001b[0;34m\u001b[0m\n\u001b[1;32m      8\u001b[0m         \u001b[0mprint\u001b[0m\u001b[0;34m(\u001b[0m\u001b[0;34m'('\u001b[0m\u001b[0;34m+\u001b[0m\u001b[0mthis\u001b[0m\u001b[0;34m.\u001b[0m\u001b[0mx\u001b[0m\u001b[0;34m+\u001b[0m\u001b[0;34m','\u001b[0m\u001b[0;34m+\u001b[0m\u001b[0mthis\u001b[0m\u001b[0;34m.\u001b[0m\u001b[0my\u001b[0m\u001b[0;34m+\u001b[0m\u001b[0;34m')'\u001b[0m\u001b[0;34m)\u001b[0m\u001b[0;34m\u001b[0m\u001b[0;34m\u001b[0m\u001b[0m\n\u001b[1;32m      9\u001b[0m \u001b[0;34m\u001b[0m\u001b[0m\n\u001b[0;32m---> 10\u001b[0;31m \u001b[0ma\u001b[0m\u001b[0;34m=\u001b[0m\u001b[0mPoint\u001b[0m\u001b[0;34m(\u001b[0m\u001b[0;36m1\u001b[0m\u001b[0;34m,\u001b[0m\u001b[0;36m2\u001b[0m\u001b[0;34m)\u001b[0m\u001b[0;34m\u001b[0m\u001b[0;34m\u001b[0m\u001b[0m\n\u001b[0m\u001b[1;32m     11\u001b[0m \u001b[0ma\u001b[0m\u001b[0;34m.\u001b[0m\u001b[0mshow\u001b[0m\u001b[0;34m(\u001b[0m\u001b[0;34m)\u001b[0m\u001b[0;34m\u001b[0m\u001b[0;34m\u001b[0m\u001b[0m\n",
      "\u001b[0;31mTypeError\u001b[0m: Point() takes no arguments"
     ]
    }
   ],
   "source": [
    "class Point:\n",
    "    x=0\n",
    "    y=0\n",
    "    def Point(foo, bar):\n",
    "        this.x=foo\n",
    "        this.y=bar\n",
    "    def show():\n",
    "        print('('+this.x+','+this.y+')')\n",
    "        \n",
    "a=Point(1,2)\n",
    "a.show()"
   ]
  },
  {
   "cell_type": "code",
   "execution_count": 46,
   "id": "ed93c1d7",
   "metadata": {},
   "outputs": [
    {
     "name": "stdout",
     "output_type": "stream",
     "text": [
      "[64.3, 79.69999999999999, 50.3, 59.9]\n",
      "Max week= 5/8~ 5/14\n"
     ]
    }
   ],
   "source": [
    "import csv\n",
    "import pandas as pd\n",
    "f=open('/Users/19juhpark/Downloads/seoul.csv')\n",
    "data=csv.reader(f)\n",
    "header=next(data)\n",
    "counter=0\n",
    "result=[]\n",
    "diff=0\n",
    "for i in data:\n",
    "    if(counter==7):\n",
    "        result.append(diff)\n",
    "        diff=0\n",
    "        counter=0\n",
    "    diff= diff+(float(i[-1])-float(i[-2]))\n",
    "    counter=counter+1\n",
    "max=0\n",
    "idx=0;\n",
    "for j in result:\n",
    "    if(j>max):\n",
    "        max=j\n",
    "        idx=idx+1\n",
    "print(result)\n",
    "print(\"Max week= 5/\"+str(1+(idx-1)*7)+\"~ 5/\"+str(7+(idx-1)*7))"
   ]
  },
  {
   "cell_type": "code",
   "execution_count": 98,
   "id": "c937b0b1",
   "metadata": {},
   "outputs": [
    {
     "name": "stdout",
     "output_type": "stream",
     "text": [
      "[2, 3, 2]\n",
      "[2.0, 2.0, 1.7320508075688772]\n",
      "[1.0, 1.5, 1.1547005383792517]\n"
     ]
    },
    {
     "data": {
      "image/png": "[encoded data removed]",
      "text/plain": [
       "<Figure size 432x288 with 1 Axes>"
      ]
     },
     "metadata": {
      "needs_background": "light"
     },
     "output_type": "display_data"
    }
   ],
   "source": [
    "import numpy as np\n",
    "import matplotlib.pyplot as plt\n",
    "docs=np.array([[1,1,0,1,0,1],[1,1,1,0,1,0],[1,1,0,1,0,0]])\n",
    "query=np.array([1,1,0,0,1,0])\n",
    "result=[]\n",
    "result2=[]\n",
    "final=[]\n",
    "idx=0\n",
    "foo=0\n",
    "for i in docs:\n",
    "    #내적, 분자 부분\n",
    "    for j in i:\n",
    "        foo=foo+j*query[idx]\n",
    "        idx=idx+1\n",
    "    result.append(foo)\n",
    "    foo=0\n",
    "    idx=0\n",
    "print(result)\n",
    "for i in docs:\n",
    "    #분모 부분\n",
    "    for j in i:\n",
    "        foo=foo+j*j\n",
    "        idx=idx+1\n",
    "    result2.append(np.sqrt(foo))\n",
    "    foo=0\n",
    "    idx=0\n",
    "print(result2)\n",
    "for i in result:\n",
    "    final.append(i/result2[idx])\n",
    "    idx=idx+1\n",
    "print(final)\n",
    "plt.bar([\"doc1=1.0\", \"doc2= 1.5\",\"doc3= 1.154\",\"doc3= \",\"doc3= \"],[0,0.2,0.4,0.6,0.8])\n",
    "plt.title(\"Cosine similarities\")\n",
    "plt.show()\n"
   ]
  },
  {
   "cell_type": "code",
   "execution_count": null,
   "id": "da575ff7",
   "metadata": {},
   "outputs": [],
   "source": []
  }
 ],
 "metadata": {
  "kernelspec": {
   "display_name": "Python 3",
   "language": "python",
   "name": "python3"
  },
  "language_info": {
   "codemirror_mode": {
    "name": "ipython",
    "version": 3
   },
   "file_extension": ".py",
   "mimetype": "text/x-python",
   "name": "python",
   "nbconvert_exporter": "python",
   "pygments_lexer": "ipython3",
   "version": "3.9.4"
  }
 },
 "nbformat": 4,
 "nbformat_minor": 5
}
